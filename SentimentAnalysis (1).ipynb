{
 "cells": [
  {
   "cell_type": "code",
   "execution_count": 30,
   "id": "ac6dbc27-8747-4432-916b-1e02de00c2ba",
   "metadata": {},
   "outputs": [
    {
     "name": "stdout",
     "output_type": "stream",
     "text": [
      "Collecting spacy\n",
      "  Downloading spacy-3.5.3-cp310-cp310-win_amd64.whl (12.2 MB)\n",
      "     -------------------------------------- 12.2/12.2 MB 633.9 kB/s eta 0:00:00\n",
      "Collecting murmurhash<1.1.0,>=0.28.0\n",
      "  Downloading murmurhash-1.0.9-cp310-cp310-win_amd64.whl (18 kB)\n",
      "Collecting typer<0.8.0,>=0.3.0\n",
      "  Downloading typer-0.7.0-py3-none-any.whl (38 kB)\n",
      "Collecting pathy>=0.10.0\n",
      "  Downloading pathy-0.10.1-py3-none-any.whl (48 kB)\n",
      "     ---------------------------------------- 48.9/48.9 kB 1.2 MB/s eta 0:00:00\n",
      "Requirement already satisfied: tqdm<5.0.0,>=4.38.0 in c:\\users\\nitu pandel\\anaconda3\\lib\\site-packages (from spacy) (4.64.1)\n",
      "Requirement already satisfied: setuptools in c:\\users\\nitu pandel\\anaconda3\\lib\\site-packages (from spacy) (65.6.3)\n",
      "Collecting preshed<3.1.0,>=3.0.2\n",
      "  Downloading preshed-3.0.8-cp310-cp310-win_amd64.whl (94 kB)\n",
      "     ---------------------------------------- 94.7/94.7 kB 1.4 MB/s eta 0:00:00\n",
      "Collecting langcodes<4.0.0,>=3.2.0\n",
      "  Downloading langcodes-3.3.0-py3-none-any.whl (181 kB)\n",
      "     ------------------------------------ 181.6/181.6 kB 996.6 kB/s eta 0:00:00\n",
      "Collecting catalogue<2.1.0,>=2.0.6\n",
      "  Downloading catalogue-2.0.8-py3-none-any.whl (17 kB)\n",
      "Requirement already satisfied: smart-open<7.0.0,>=5.2.1 in c:\\users\\nitu pandel\\anaconda3\\lib\\site-packages (from spacy) (5.2.1)\n",
      "Requirement already satisfied: numpy>=1.15.0 in c:\\users\\nitu pandel\\anaconda3\\lib\\site-packages (from spacy) (1.23.5)\n",
      "Collecting cymem<2.1.0,>=2.0.2\n",
      "  Downloading cymem-2.0.7-cp310-cp310-win_amd64.whl (29 kB)\n",
      "Collecting srsly<3.0.0,>=2.4.3\n",
      "  Downloading srsly-2.4.6-cp310-cp310-win_amd64.whl (480 kB)\n",
      "     ------------------------------------ 480.9/480.9 kB 884.7 kB/s eta 0:00:00\n",
      "Collecting wasabi<1.2.0,>=0.9.1\n",
      "  Downloading wasabi-1.1.1-py3-none-any.whl (27 kB)\n",
      "Collecting thinc<8.2.0,>=8.1.8\n",
      "  Downloading thinc-8.1.10-cp310-cp310-win_amd64.whl (1.5 MB)\n",
      "     ---------------------------------------- 1.5/1.5 MB 1.1 MB/s eta 0:00:00\n",
      "Collecting spacy-loggers<2.0.0,>=1.0.0\n",
      "  Downloading spacy_loggers-1.0.4-py3-none-any.whl (11 kB)\n",
      "Requirement already satisfied: jinja2 in c:\\users\\nitu pandel\\anaconda3\\lib\\site-packages (from spacy) (3.1.2)\n",
      "Collecting pydantic!=1.8,!=1.8.1,<1.11.0,>=1.7.4\n",
      "  Downloading pydantic-1.10.8-cp310-cp310-win_amd64.whl (2.1 MB)\n",
      "     ---------------------------------------- 2.1/2.1 MB 918.4 kB/s eta 0:00:00\n",
      "Collecting spacy-legacy<3.1.0,>=3.0.11\n",
      "  Downloading spacy_legacy-3.0.12-py2.py3-none-any.whl (29 kB)\n",
      "Requirement already satisfied: packaging>=20.0 in c:\\users\\nitu pandel\\anaconda3\\lib\\site-packages (from spacy) (22.0)\n",
      "Requirement already satisfied: requests<3.0.0,>=2.13.0 in c:\\users\\nitu pandel\\anaconda3\\lib\\site-packages (from spacy) (2.28.1)\n",
      "Requirement already satisfied: typing-extensions>=4.2.0 in c:\\users\\nitu pandel\\anaconda3\\lib\\site-packages (from pydantic!=1.8,!=1.8.1,<1.11.0,>=1.7.4->spacy) (4.4.0)\n",
      "Requirement already satisfied: charset-normalizer<3,>=2 in c:\\users\\nitu pandel\\anaconda3\\lib\\site-packages (from requests<3.0.0,>=2.13.0->spacy) (2.0.4)\n",
      "Requirement already satisfied: certifi>=2017.4.17 in c:\\users\\nitu pandel\\anaconda3\\lib\\site-packages (from requests<3.0.0,>=2.13.0->spacy) (2022.12.7)\n",
      "Requirement already satisfied: idna<4,>=2.5 in c:\\users\\nitu pandel\\anaconda3\\lib\\site-packages (from requests<3.0.0,>=2.13.0->spacy) (3.4)\n",
      "Requirement already satisfied: urllib3<1.27,>=1.21.1 in c:\\users\\nitu pandel\\anaconda3\\lib\\site-packages (from requests<3.0.0,>=2.13.0->spacy) (1.26.14)\n",
      "Collecting blis<0.8.0,>=0.7.8\n",
      "  Downloading blis-0.7.9-cp310-cp310-win_amd64.whl (7.0 MB)\n",
      "     ---------------------------------------- 7.0/7.0 MB 1.1 MB/s eta 0:00:00\n",
      "Collecting confection<1.0.0,>=0.0.1\n",
      "  Downloading confection-0.0.4-py3-none-any.whl (32 kB)\n",
      "Requirement already satisfied: colorama in c:\\users\\nitu pandel\\anaconda3\\lib\\site-packages (from tqdm<5.0.0,>=4.38.0->spacy) (0.4.6)\n",
      "Requirement already satisfied: click<9.0.0,>=7.1.1 in c:\\users\\nitu pandel\\anaconda3\\lib\\site-packages (from typer<0.8.0,>=0.3.0->spacy) (8.0.4)\n",
      "Requirement already satisfied: MarkupSafe>=2.0 in c:\\users\\nitu pandel\\anaconda3\\lib\\site-packages (from jinja2->spacy) (2.1.1)\n",
      "Installing collected packages: cymem, wasabi, spacy-loggers, spacy-legacy, pydantic, murmurhash, langcodes, catalogue, blis, typer, srsly, preshed, pathy, confection, thinc, spacy\n",
      "Successfully installed blis-0.7.9 catalogue-2.0.8 confection-0.0.4 cymem-2.0.7 langcodes-3.3.0 murmurhash-1.0.9 pathy-0.10.1 preshed-3.0.8 pydantic-1.10.8 spacy-3.5.3 spacy-legacy-3.0.12 spacy-loggers-1.0.4 srsly-2.4.6 thinc-8.1.10 typer-0.7.0 wasabi-1.1.1\n",
      "Note: you may need to restart the kernel to use updated packages.\n"
     ]
    }
   ],
   "source": [
    "pip install spacy\n"
   ]
  },
  {
   "cell_type": "code",
   "execution_count": 31,
   "id": "36da26fb-2c9e-45d7-a46e-ddddbb398783",
   "metadata": {},
   "outputs": [],
   "source": [
    "import pandas as pd\n",
    "import numpy as np\n",
    "import matplotlib.pyplot as plt\n",
    "import seaborn as sns\n",
    "plt.style.use('ggplot')\n",
    "import nltk\n",
    "import spacy\n"
   ]
  },
  {
   "cell_type": "code",
   "execution_count": 13,
   "id": "e79185ec-1228-4928-aa07-de514e9a3fd9",
   "metadata": {},
   "outputs": [
    {
     "name": "stdout",
     "output_type": "stream",
     "text": [
      "(255, 3)\n",
      "(30, 3)\n"
     ]
    }
   ],
   "source": [
    "df = pd.read_csv('data.csv')\n",
    "print(df.shape)\n",
    "df = df.head(30)\n",
    "print(df.shape)"
   ]
  },
  {
   "cell_type": "code",
   "execution_count": 14,
   "id": "fb72e9dd-90f5-4397-b24b-8807f7a1f650",
   "metadata": {},
   "outputs": [
    {
     "data": {
      "text/html": [
       "<div>\n",
       "<style scoped>\n",
       "    .dataframe tbody tr th:only-of-type {\n",
       "        vertical-align: middle;\n",
       "    }\n",
       "\n",
       "    .dataframe tbody tr th {\n",
       "        vertical-align: top;\n",
       "    }\n",
       "\n",
       "    .dataframe thead th {\n",
       "        text-align: right;\n",
       "    }\n",
       "</style>\n",
       "<table border=\"1\" class=\"dataframe\">\n",
       "  <thead>\n",
       "    <tr style=\"text-align: right;\">\n",
       "      <th></th>\n",
       "      <th>Product Name</th>\n",
       "      <th>Review</th>\n",
       "      <th>Rating</th>\n",
       "    </tr>\n",
       "  </thead>\n",
       "  <tbody>\n",
       "    <tr>\n",
       "      <th>0</th>\n",
       "      <td>HP 17 Laptop, 17.3” HD+ Display, 11th Gen Inte...</td>\n",
       "      <td>The laptop's screen is huge and great picture ...</td>\n",
       "      <td>5</td>\n",
       "    </tr>\n",
       "    <tr>\n",
       "      <th>1</th>\n",
       "      <td>HP 17 Laptop, 17.3” HD+ Display, 11th Gen Inte...</td>\n",
       "      <td>Great product</td>\n",
       "      <td>5</td>\n",
       "    </tr>\n",
       "    <tr>\n",
       "      <th>2</th>\n",
       "      <td>HP Newest Pavilion 15.6\" HD Laptop, Intel Quad...</td>\n",
       "      <td>See review title.</td>\n",
       "      <td>4</td>\n",
       "    </tr>\n",
       "    <tr>\n",
       "      <th>3</th>\n",
       "      <td>HP Newest Pavilion 15.6\" HD Laptop, Intel Quad...</td>\n",
       "      <td>The laptop works great so far. It wasn't easy ...</td>\n",
       "      <td>5</td>\n",
       "    </tr>\n",
       "    <tr>\n",
       "      <th>4</th>\n",
       "      <td>HP Newest Pavilion 15.6\" HD Laptop, Intel Quad...</td>\n",
       "      <td>Si me sgradoy</td>\n",
       "      <td>4</td>\n",
       "    </tr>\n",
       "  </tbody>\n",
       "</table>\n",
       "</div>"
      ],
      "text/plain": [
       "                                        Product Name  \\\n",
       "0  HP 17 Laptop, 17.3” HD+ Display, 11th Gen Inte...   \n",
       "1  HP 17 Laptop, 17.3” HD+ Display, 11th Gen Inte...   \n",
       "2  HP Newest Pavilion 15.6\" HD Laptop, Intel Quad...   \n",
       "3  HP Newest Pavilion 15.6\" HD Laptop, Intel Quad...   \n",
       "4  HP Newest Pavilion 15.6\" HD Laptop, Intel Quad...   \n",
       "\n",
       "                                              Review  Rating  \n",
       "0  The laptop's screen is huge and great picture ...       5  \n",
       "1                                      Great product       5  \n",
       "2                                  See review title.       4  \n",
       "3  The laptop works great so far. It wasn't easy ...       5  \n",
       "4                                      Si me sgradoy       4  "
      ]
     },
     "execution_count": 14,
     "metadata": {},
     "output_type": "execute_result"
    }
   ],
   "source": [
    "df.head()"
   ]
  },
  {
   "cell_type": "code",
   "execution_count": 15,
   "id": "2df94467-da4f-4126-ba52-4c4fc77e2e9e",
   "metadata": {},
   "outputs": [
    {
     "data": {
      "text/plain": [
       "0     5\n",
       "1     5\n",
       "2     4\n",
       "3     5\n",
       "4     4\n",
       "5     5\n",
       "6     5\n",
       "7     5\n",
       "8     5\n",
       "9     1\n",
       "10    5\n",
       "11    4\n",
       "12    4\n",
       "13    5\n",
       "14    5\n",
       "15    5\n",
       "16    3\n",
       "17    5\n",
       "18    5\n",
       "19    4\n",
       "20    5\n",
       "21    4\n",
       "22    5\n",
       "23    5\n",
       "24    5\n",
       "25    5\n",
       "26    5\n",
       "27    2\n",
       "28    3\n",
       "29    5\n",
       "Name: Rating, dtype: int64"
      ]
     },
     "execution_count": 15,
     "metadata": {},
     "output_type": "execute_result"
    }
   ],
   "source": [
    "df['Rating']"
   ]
  },
  {
   "cell_type": "code",
   "execution_count": 17,
   "id": "6ab844bf-f8a8-4c45-a294-1541d6f07ac7",
   "metadata": {},
   "outputs": [
    {
     "data": {
      "image/png": "[encoded data removed]",
      "text/plain": [
       "<Figure size 1000x500 with 1 Axes>"
      ]
     },
     "metadata": {},
     "output_type": "display_data"
    }
   ],
   "source": [
    "ax = df['Rating'].value_counts().sort_index().plot(kind='bar', title='Count of Reviews by Ratings',figsize=(10,5))\n",
    "ax.set_xlabel('Review Stars')\n",
    "plt.show()"
   ]
  },
  {
   "cell_type": "code",
   "execution_count": 19,
   "id": "01206af2-a2ef-4cca-8975-a8b9a48e7e34",
   "metadata": {},
   "outputs": [
    {
     "name": "stdout",
     "output_type": "stream",
     "text": [
      "It’s a great laptop, fast and easy to use. A lot of storage space and the graphics are pretty good for a standard laptop. However; if you’re buying for gaming purposes, note that most online games will not work and if they do, you’ll more than likely experience heavy glitchy.\n"
     ]
    }
   ],
   "source": [
    "#Basic NLTK\n",
    "#5 IS iNDEX\n",
    "example = df['Review'][5]\n",
    "print(example)"
   ]
  },
  {
   "cell_type": "code",
   "execution_count": 40,
   "id": "8193f104-7f9c-4f47-a816-ef06dcc27259",
   "metadata": {},
   "outputs": [
    {
     "name": "stdout",
     "output_type": "stream",
     "text": [
      "['It', 's', 'a', 'great', 'laptop', 'fast', 'and', 'easy', 'to', 'use', 'A', 'lot', 'of', 'storage', 'space', 'and', 'the', 'graphics', 'are', 'pretty', 'good', 'for', 'a', 'standard', 'laptop', 'However', 'if', 'you', 're', 'buying', 'for', 'gaming', 'purposes', 'note', 'that', 'most', 'online', 'games', 'will', 'not', 'work', 'and', 'if', 'they', 'do', 'you', 'll', 'more', 'than', 'likely', 'experience', 'heavy', 'glitchy']\n"
     ]
    }
   ],
   "source": [
    "from gensim.utils import tokenize\n",
    "\n",
    "tokens = list(tokenize(example))\n",
    "# print(tokens)\n"
   ]
  },
  {
   "cell_type": "code",
   "execution_count": 43,
   "id": "1d12836f-2c40-419b-9361-a17583ffc9bd",
   "metadata": {},
   "outputs": [
    {
     "name": "stderr",
     "output_type": "stream",
     "text": [
      "[nltk_data] Downloading package punkt to C:\\Users\\NITU\n",
      "[nltk_data]     PANDEL\\AppData\\Roaming\\nltk_data...\n",
      "[nltk_data]   Unzipping tokenizers\\punkt.zip.\n"
     ]
    },
    {
     "data": {
      "text/plain": [
       "True"
      ]
     },
     "execution_count": 43,
     "metadata": {},
     "output_type": "execute_result"
    }
   ],
   "source": [
    "nltk.download('punkt')"
   ]
  },
  {
   "cell_type": "code",
   "execution_count": 44,
   "id": "ee8bcf2e-b9a1-4336-89a4-e398e421e648",
   "metadata": {},
   "outputs": [
    {
     "data": {
      "text/plain": [
       "['It',\n",
       " '’',\n",
       " 's',\n",
       " 'a',\n",
       " 'great',\n",
       " 'laptop',\n",
       " ',',\n",
       " 'fast',\n",
       " 'and',\n",
       " 'easy',\n",
       " 'to',\n",
       " 'use',\n",
       " '.',\n",
       " 'A',\n",
       " 'lot',\n",
       " 'of',\n",
       " 'storage',\n",
       " 'space',\n",
       " 'and',\n",
       " 'the',\n",
       " 'graphics',\n",
       " 'are',\n",
       " 'pretty',\n",
       " 'good',\n",
       " 'for',\n",
       " 'a',\n",
       " 'standard',\n",
       " 'laptop',\n",
       " '.',\n",
       " 'However',\n",
       " ';',\n",
       " 'if',\n",
       " 'you',\n",
       " '’',\n",
       " 're',\n",
       " 'buying',\n",
       " 'for',\n",
       " 'gaming',\n",
       " 'purposes',\n",
       " ',',\n",
       " 'note',\n",
       " 'that',\n",
       " 'most',\n",
       " 'online',\n",
       " 'games',\n",
       " 'will',\n",
       " 'not',\n",
       " 'work',\n",
       " 'and',\n",
       " 'if',\n",
       " 'they',\n",
       " 'do',\n",
       " ',',\n",
       " 'you',\n",
       " '’',\n",
       " 'll',\n",
       " 'more',\n",
       " 'than',\n",
       " 'likely',\n",
       " 'experience',\n",
       " 'heavy',\n",
       " 'glitchy',\n",
       " '.']"
      ]
     },
     "execution_count": 44,
     "metadata": {},
     "output_type": "execute_result"
    }
   ],
   "source": [
    "nltk.word_tokenize(example)"
   ]
  },
  {
   "cell_type": "code",
   "execution_count": 45,
   "id": "b62681c7-a93e-4768-b80e-828ed1eb3fb4",
   "metadata": {},
   "outputs": [
    {
     "data": {
      "text/plain": [
       "['It', '’', 's', 'a', 'great']"
      ]
     },
     "execution_count": 45,
     "metadata": {},
     "output_type": "execute_result"
    }
   ],
   "source": [
    "tokens = nltk.word_tokenize(example)\n",
    "tokens[:5]"
   ]
  },
  {
   "cell_type": "code",
   "execution_count": 47,
   "id": "ecd2f457-c841-4b74-9286-52a8ee48d699",
   "metadata": {},
   "outputs": [
    {
     "name": "stderr",
     "output_type": "stream",
     "text": [
      "[nltk_data] Downloading package averaged_perceptron_tagger to\n",
      "[nltk_data]     C:\\Users\\NITU PANDEL\\AppData\\Roaming\\nltk_data...\n",
      "[nltk_data]   Unzipping taggers\\averaged_perceptron_tagger.zip.\n"
     ]
    },
    {
     "data": {
      "text/plain": [
       "True"
      ]
     },
     "execution_count": 47,
     "metadata": {},
     "output_type": "execute_result"
    }
   ],
   "source": [
    "nltk.download('averaged_perceptron_tagger')"
   ]
  },
  {
   "cell_type": "code",
   "execution_count": 49,
   "id": "41c1bea4-2bf9-4cc1-be4a-1c808d739a8e",
   "metadata": {},
   "outputs": [
    {
     "data": {
      "text/plain": [
       "[('It', 'PRP'),\n",
       " ('s', 'VBZ'),\n",
       " ('a', 'DT'),\n",
       " ('great', 'JJ'),\n",
       " ('laptop', 'JJ'),\n",
       " ('fast', 'NN'),\n",
       " ('and', 'CC'),\n",
       " ('easy', 'JJ'),\n",
       " ('to', 'TO'),\n",
       " ('use', 'VB')]"
      ]
     },
     "execution_count": 49,
     "metadata": {},
     "output_type": "execute_result"
    }
   ],
   "source": [
    "tagged = nltk.pos_tag(tokens)\n",
    "tagged[:10]"
   ]
  },
  {
   "cell_type": "code",
   "execution_count": 52,
   "id": "cdc9055e-b22b-4ad4-b11f-d0f3381563ee",
   "metadata": {},
   "outputs": [
    {
     "name": "stderr",
     "output_type": "stream",
     "text": [
      "[nltk_data] Downloading package maxent_ne_chunker to C:\\Users\\NITU\n",
      "[nltk_data]     PANDEL\\AppData\\Roaming\\nltk_data...\n",
      "[nltk_data]   Unzipping chunkers\\maxent_ne_chunker.zip.\n"
     ]
    },
    {
     "data": {
      "text/plain": [
       "True"
      ]
     },
     "execution_count": 52,
     "metadata": {},
     "output_type": "execute_result"
    }
   ],
   "source": [
    "nltk.download('maxent_ne_chunker')"
   ]
  },
  {
   "cell_type": "code",
   "execution_count": 54,
   "id": "c7068320-f1e3-4001-b52e-16930f58263f",
   "metadata": {},
   "outputs": [
    {
     "name": "stderr",
     "output_type": "stream",
     "text": [
      "[nltk_data] Downloading package words to C:\\Users\\NITU\n",
      "[nltk_data]     PANDEL\\AppData\\Roaming\\nltk_data...\n",
      "[nltk_data]   Unzipping corpora\\words.zip.\n"
     ]
    },
    {
     "data": {
      "text/plain": [
       "True"
      ]
     },
     "execution_count": 54,
     "metadata": {},
     "output_type": "execute_result"
    }
   ],
   "source": [
    "nltk.download('words')"
   ]
  },
  {
   "cell_type": "code",
   "execution_count": 55,
   "id": "158d2348-9580-4b6c-af3e-80874a4acc40",
   "metadata": {},
   "outputs": [
    {
     "name": "stdout",
     "output_type": "stream",
     "text": [
      "(S\n",
      "  It/PRP\n",
      "  s/VBZ\n",
      "  a/DT\n",
      "  great/JJ\n",
      "  laptop/JJ\n",
      "  fast/NN\n",
      "  and/CC\n",
      "  easy/JJ\n",
      "  to/TO\n",
      "  use/VB\n",
      "  A/DT\n",
      "  lot/NN\n",
      "  of/IN\n",
      "  storage/NN\n",
      "  space/NN\n",
      "  and/CC\n",
      "  the/DT\n",
      "  graphics/NNS\n",
      "  are/VBP\n",
      "  pretty/RB\n",
      "  good/JJ\n",
      "  for/IN\n",
      "  a/DT\n",
      "  standard/JJ\n",
      "  laptop/NN\n",
      "  However/RB\n",
      "  if/IN\n",
      "  you/PRP\n",
      "  re/VBP\n",
      "  buying/VBG\n",
      "  for/IN\n",
      "  gaming/VBG\n",
      "  purposes/NNS\n",
      "  note/VBP\n",
      "  that/IN\n",
      "  most/JJS\n",
      "  online/JJ\n",
      "  games/NNS\n",
      "  will/MD\n",
      "  not/RB\n",
      "  work/VB\n",
      "  and/CC\n",
      "  if/IN\n",
      "  they/PRP\n",
      "  do/VBP\n",
      "  you/PRP\n",
      "  ll/VB\n",
      "  more/JJR\n",
      "  than/IN\n",
      "  likely/JJ\n",
      "  experience/NN\n",
      "  heavy/JJ\n",
      "  glitchy/NN)\n"
     ]
    }
   ],
   "source": [
    "entities = nltk.chunk.ne_chunk(tagged)\n",
    "entities.pprint()"
   ]
  },
  {
   "cell_type": "code",
   "execution_count": 57,
   "id": "33cc9c0c-79e2-4c9f-9819-b3ccfcd0421e",
   "metadata": {},
   "outputs": [
    {
     "name": "stderr",
     "output_type": "stream",
     "text": [
      "[nltk_data] Downloading package vader_lexicon to C:\\Users\\NITU\n",
      "[nltk_data]     PANDEL\\AppData\\Roaming\\nltk_data...\n"
     ]
    },
    {
     "data": {
      "text/plain": [
       "True"
      ]
     },
     "execution_count": 57,
     "metadata": {},
     "output_type": "execute_result"
    }
   ],
   "source": [
    "nltk.download('vader_lexicon')"
   ]
  },
  {
   "cell_type": "code",
   "execution_count": 58,
   "id": "1ae340f0-3899-4055-a83d-c22fccd98e77",
   "metadata": {},
   "outputs": [],
   "source": [
    "# VADER - valence Aware Dicitionary and sEntiment Reasoner\n",
    "# Donot count Relation between words\n",
    "from nltk.sentiment import SentimentIntensityAnalyzer\n",
    "from tqdm.notebook import tqdm\n",
    "\n",
    "sia = SentimentIntensityAnalyzer()"
   ]
  },
  {
   "cell_type": "code",
   "execution_count": 62,
   "id": "c635ac17-9ac0-4a8d-8b3f-9f283f93adb0",
   "metadata": {},
   "outputs": [
    {
     "data": {
      "text/plain": [
       "{'neg': 0.756, 'neu': 0.244, 'pos': 0.0, 'compound': -0.4767}"
      ]
     },
     "execution_count": 62,
     "metadata": {},
     "output_type": "execute_result"
    }
   ],
   "source": [
    "sia.polarity_scores('I am sad')"
   ]
  },
  {
   "cell_type": "code",
   "execution_count": 63,
   "id": "faffcfd8-303d-471d-8a55-661ae35bae40",
   "metadata": {},
   "outputs": [
    {
     "data": {
      "text/plain": [
       "{'neg': 0.0, 'neu': 0.208, 'pos': 0.792, 'compound': 0.5859}"
      ]
     },
     "execution_count": 63,
     "metadata": {},
     "output_type": "execute_result"
    }
   ],
   "source": [
    "sia.polarity_scores('I am wow')"
   ]
  },
  {
   "cell_type": "code",
   "execution_count": 64,
   "id": "786b5079-9f7f-4057-95f5-a76533fd92c0",
   "metadata": {},
   "outputs": [
    {
     "data": {
      "text/plain": [
       "{'neg': 0.0, 'neu': 0.766, 'pos': 0.234, 'compound': 0.9201}"
      ]
     },
     "execution_count": 64,
     "metadata": {},
     "output_type": "execute_result"
    }
   ],
   "source": [
    "sia.polarity_scores(example)"
   ]
  },
  {
   "cell_type": "code",
   "execution_count": 65,
   "id": "f6f1ae01-40cf-4d3a-81d4-708cffb163d8",
   "metadata": {},
   "outputs": [
    {
     "data": {
      "text/html": [
       "<div>\n",
       "<style scoped>\n",
       "    .dataframe tbody tr th:only-of-type {\n",
       "        vertical-align: middle;\n",
       "    }\n",
       "\n",
       "    .dataframe tbody tr th {\n",
       "        vertical-align: top;\n",
       "    }\n",
       "\n",
       "    .dataframe thead th {\n",
       "        text-align: right;\n",
       "    }\n",
       "</style>\n",
       "<table border=\"1\" class=\"dataframe\">\n",
       "  <thead>\n",
       "    <tr style=\"text-align: right;\">\n",
       "      <th></th>\n",
       "      <th>Product Name</th>\n",
       "      <th>Review</th>\n",
       "      <th>Rating</th>\n",
       "    </tr>\n",
       "  </thead>\n",
       "  <tbody>\n",
       "    <tr>\n",
       "      <th>0</th>\n",
       "      <td>HP 17 Laptop, 17.3” HD+ Display, 11th Gen Inte...</td>\n",
       "      <td>The laptop's screen is huge and great picture ...</td>\n",
       "      <td>5</td>\n",
       "    </tr>\n",
       "    <tr>\n",
       "      <th>1</th>\n",
       "      <td>HP 17 Laptop, 17.3” HD+ Display, 11th Gen Inte...</td>\n",
       "      <td>Great product</td>\n",
       "      <td>5</td>\n",
       "    </tr>\n",
       "    <tr>\n",
       "      <th>2</th>\n",
       "      <td>HP Newest Pavilion 15.6\" HD Laptop, Intel Quad...</td>\n",
       "      <td>See review title.</td>\n",
       "      <td>4</td>\n",
       "    </tr>\n",
       "    <tr>\n",
       "      <th>3</th>\n",
       "      <td>HP Newest Pavilion 15.6\" HD Laptop, Intel Quad...</td>\n",
       "      <td>The laptop works great so far. It wasn't easy ...</td>\n",
       "      <td>5</td>\n",
       "    </tr>\n",
       "    <tr>\n",
       "      <th>4</th>\n",
       "      <td>HP Newest Pavilion 15.6\" HD Laptop, Intel Quad...</td>\n",
       "      <td>Si me sgradoy</td>\n",
       "      <td>4</td>\n",
       "    </tr>\n",
       "    <tr>\n",
       "      <th>5</th>\n",
       "      <td>HP Newest Pavilion 15.6\" HD Laptop, Intel Quad...</td>\n",
       "      <td>It’s a great laptop, fast and easy to use. A l...</td>\n",
       "      <td>5</td>\n",
       "    </tr>\n",
       "    <tr>\n",
       "      <th>6</th>\n",
       "      <td>HP Newest Pavilion 15.6\" HD Laptop, Intel Quad...</td>\n",
       "      <td>Great screen quality and easy to use.</td>\n",
       "      <td>5</td>\n",
       "    </tr>\n",
       "    <tr>\n",
       "      <th>7</th>\n",
       "      <td>HP Newest Pavilion 15.6\" HD Laptop, Intel Quad...</td>\n",
       "      <td>I have moved back to HP to be more compatible ...</td>\n",
       "      <td>5</td>\n",
       "    </tr>\n",
       "    <tr>\n",
       "      <th>8</th>\n",
       "      <td>HP Newest Pavilion 15.6\" HD Laptop, Intel Quad...</td>\n",
       "      <td>The screen is great and HD is great for videos...</td>\n",
       "      <td>5</td>\n",
       "    </tr>\n",
       "    <tr>\n",
       "      <th>9</th>\n",
       "      <td>HP Newest Pavilion 15.6\" HD Laptop, Intel Quad...</td>\n",
       "      <td>Sure would be nice if the whole thing worked. ...</td>\n",
       "      <td>1</td>\n",
       "    </tr>\n",
       "    <tr>\n",
       "      <th>10</th>\n",
       "      <td>HP 2022 Newest Pavilion 15.6\" HD Laptop, Intel...</td>\n",
       "      <td>Its an ok laptop but dont expect to do any gam...</td>\n",
       "      <td>5</td>\n",
       "    </tr>\n",
       "    <tr>\n",
       "      <th>11</th>\n",
       "      <td>HP 2022 Newest Pavilion 15.6\" HD Laptop, Intel...</td>\n",
       "      <td>Computer was described as 15'6 inch screen,  T...</td>\n",
       "      <td>4</td>\n",
       "    </tr>\n",
       "    <tr>\n",
       "      <th>12</th>\n",
       "      <td>HP 2022 Newest Pavilion 15.6\" HD Laptop, Intel...</td>\n",
       "      <td>This transaction was seamless, quite satisfied...</td>\n",
       "      <td>4</td>\n",
       "    </tr>\n",
       "    <tr>\n",
       "      <th>13</th>\n",
       "      <td>HP 2022 Newest Pavilion 15.6\" HD Laptop, Intel...</td>\n",
       "      <td>This laptop looks beautiful, loads fast, has e...</td>\n",
       "      <td>5</td>\n",
       "    </tr>\n",
       "    <tr>\n",
       "      <th>14</th>\n",
       "      <td>HP 2022 Newest Pavilion 15.6\" HD Laptop, Intel...</td>\n",
       "      <td>Lots of space and very large screen, battery l...</td>\n",
       "      <td>5</td>\n",
       "    </tr>\n",
       "    <tr>\n",
       "      <th>15</th>\n",
       "      <td>HP 2022 Newest Pavilion 15.6\" HD Laptop, Intel...</td>\n",
       "      <td>This is an excellent 2T Laptop Computer. Every...</td>\n",
       "      <td>5</td>\n",
       "    </tr>\n",
       "    <tr>\n",
       "      <th>16</th>\n",
       "      <td>HP 2022 Newest Pavilion 15.6\" HD Laptop, Intel...</td>\n",
       "      <td>I bought this HP over some similar models list...</td>\n",
       "      <td>3</td>\n",
       "    </tr>\n",
       "    <tr>\n",
       "      <th>17</th>\n",
       "      <td>HP 2022 Newest Pavilion 15.6\" HD Laptop, Intel...</td>\n",
       "      <td>Easy setup, perfect size, right hand number ke...</td>\n",
       "      <td>5</td>\n",
       "    </tr>\n",
       "    <tr>\n",
       "      <th>18</th>\n",
       "      <td>HP 2022 Newest Pavilion 15.6\" HD Laptop, Intel...</td>\n",
       "      <td>I really like the color of this laptop top, so...</td>\n",
       "      <td>5</td>\n",
       "    </tr>\n",
       "    <tr>\n",
       "      <th>19</th>\n",
       "      <td>HP 2022 Newest Pavilion 15.6\" HD Laptop, Intel...</td>\n",
       "      <td>I chose this computer because of the specs. 32...</td>\n",
       "      <td>4</td>\n",
       "    </tr>\n",
       "    <tr>\n",
       "      <th>20</th>\n",
       "      <td>HP 2022 Newest Pavilion 15.6\" HD Laptop, Intel...</td>\n",
       "      <td>This computer has everything I need and is muc...</td>\n",
       "      <td>5</td>\n",
       "    </tr>\n",
       "    <tr>\n",
       "      <th>21</th>\n",
       "      <td>HP 2022 Newest Pavilion 15.6\" HD Laptop, Intel...</td>\n",
       "      <td>Amazing for everything except Video Games</td>\n",
       "      <td>4</td>\n",
       "    </tr>\n",
       "    <tr>\n",
       "      <th>22</th>\n",
       "      <td>HP 2022 Newest Pavilion 15.6\" HD Laptop, Intel...</td>\n",
       "      <td>I just started a job in January.  I needed a g...</td>\n",
       "      <td>5</td>\n",
       "    </tr>\n",
       "    <tr>\n",
       "      <th>23</th>\n",
       "      <td>HP 2022 Newest Pavilion 15.6\" HD Laptop, Intel...</td>\n",
       "      <td>I really have no complaints about this laptop....</td>\n",
       "      <td>5</td>\n",
       "    </tr>\n",
       "    <tr>\n",
       "      <th>24</th>\n",
       "      <td>HP 2022 Newest Pavilion 15.6\" HD Laptop, Intel...</td>\n",
       "      <td>I bought this as a gift for my husband to use ...</td>\n",
       "      <td>5</td>\n",
       "    </tr>\n",
       "    <tr>\n",
       "      <th>25</th>\n",
       "      <td>HP 2022 Newest Pavilion 15.6\" HD Laptop, Intel...</td>\n",
       "      <td>I really enjoy this laptop so far. The shippin...</td>\n",
       "      <td>5</td>\n",
       "    </tr>\n",
       "    <tr>\n",
       "      <th>26</th>\n",
       "      <td>HP 2022 Newest Pavilion 15.6\" HD Laptop, Intel...</td>\n",
       "      <td>I haven’t used the touchscreen as this is a ne...</td>\n",
       "      <td>5</td>\n",
       "    </tr>\n",
       "    <tr>\n",
       "      <th>27</th>\n",
       "      <td>HP 2022 Newest Pavilion 15.6\" HD Laptop, Intel...</td>\n",
       "      <td>This is an ok computer. Nothing really special...</td>\n",
       "      <td>2</td>\n",
       "    </tr>\n",
       "    <tr>\n",
       "      <th>28</th>\n",
       "      <td>HP 2022 Newest Pavilion 15.6\" HD Laptop, Intel...</td>\n",
       "      <td>Update: computer keep shutting down and restar...</td>\n",
       "      <td>3</td>\n",
       "    </tr>\n",
       "    <tr>\n",
       "      <th>29</th>\n",
       "      <td>HP 2022 Newest Pavilion 15.6\" HD Laptop, Intel...</td>\n",
       "      <td>This is a great computor, a lot of bang for yo...</td>\n",
       "      <td>5</td>\n",
       "    </tr>\n",
       "  </tbody>\n",
       "</table>\n",
       "</div>"
      ],
      "text/plain": [
       "                                         Product Name  \\\n",
       "0   HP 17 Laptop, 17.3” HD+ Display, 11th Gen Inte...   \n",
       "1   HP 17 Laptop, 17.3” HD+ Display, 11th Gen Inte...   \n",
       "2   HP Newest Pavilion 15.6\" HD Laptop, Intel Quad...   \n",
       "3   HP Newest Pavilion 15.6\" HD Laptop, Intel Quad...   \n",
       "4   HP Newest Pavilion 15.6\" HD Laptop, Intel Quad...   \n",
       "5   HP Newest Pavilion 15.6\" HD Laptop, Intel Quad...   \n",
       "6   HP Newest Pavilion 15.6\" HD Laptop, Intel Quad...   \n",
       "7   HP Newest Pavilion 15.6\" HD Laptop, Intel Quad...   \n",
       "8   HP Newest Pavilion 15.6\" HD Laptop, Intel Quad...   \n",
       "9   HP Newest Pavilion 15.6\" HD Laptop, Intel Quad...   \n",
       "10  HP 2022 Newest Pavilion 15.6\" HD Laptop, Intel...   \n",
       "11  HP 2022 Newest Pavilion 15.6\" HD Laptop, Intel...   \n",
       "12  HP 2022 Newest Pavilion 15.6\" HD Laptop, Intel...   \n",
       "13  HP 2022 Newest Pavilion 15.6\" HD Laptop, Intel...   \n",
       "14  HP 2022 Newest Pavilion 15.6\" HD Laptop, Intel...   \n",
       "15  HP 2022 Newest Pavilion 15.6\" HD Laptop, Intel...   \n",
       "16  HP 2022 Newest Pavilion 15.6\" HD Laptop, Intel...   \n",
       "17  HP 2022 Newest Pavilion 15.6\" HD Laptop, Intel...   \n",
       "18  HP 2022 Newest Pavilion 15.6\" HD Laptop, Intel...   \n",
       "19  HP 2022 Newest Pavilion 15.6\" HD Laptop, Intel...   \n",
       "20  HP 2022 Newest Pavilion 15.6\" HD Laptop, Intel...   \n",
       "21  HP 2022 Newest Pavilion 15.6\" HD Laptop, Intel...   \n",
       "22  HP 2022 Newest Pavilion 15.6\" HD Laptop, Intel...   \n",
       "23  HP 2022 Newest Pavilion 15.6\" HD Laptop, Intel...   \n",
       "24  HP 2022 Newest Pavilion 15.6\" HD Laptop, Intel...   \n",
       "25  HP 2022 Newest Pavilion 15.6\" HD Laptop, Intel...   \n",
       "26  HP 2022 Newest Pavilion 15.6\" HD Laptop, Intel...   \n",
       "27  HP 2022 Newest Pavilion 15.6\" HD Laptop, Intel...   \n",
       "28  HP 2022 Newest Pavilion 15.6\" HD Laptop, Intel...   \n",
       "29  HP 2022 Newest Pavilion 15.6\" HD Laptop, Intel...   \n",
       "\n",
       "                                               Review  Rating  \n",
       "0   The laptop's screen is huge and great picture ...       5  \n",
       "1                                       Great product       5  \n",
       "2                                   See review title.       4  \n",
       "3   The laptop works great so far. It wasn't easy ...       5  \n",
       "4                                       Si me sgradoy       4  \n",
       "5   It’s a great laptop, fast and easy to use. A l...       5  \n",
       "6               Great screen quality and easy to use.       5  \n",
       "7   I have moved back to HP to be more compatible ...       5  \n",
       "8   The screen is great and HD is great for videos...       5  \n",
       "9   Sure would be nice if the whole thing worked. ...       1  \n",
       "10  Its an ok laptop but dont expect to do any gam...       5  \n",
       "11  Computer was described as 15'6 inch screen,  T...       4  \n",
       "12  This transaction was seamless, quite satisfied...       4  \n",
       "13  This laptop looks beautiful, loads fast, has e...       5  \n",
       "14  Lots of space and very large screen, battery l...       5  \n",
       "15  This is an excellent 2T Laptop Computer. Every...       5  \n",
       "16  I bought this HP over some similar models list...       3  \n",
       "17  Easy setup, perfect size, right hand number ke...       5  \n",
       "18  I really like the color of this laptop top, so...       5  \n",
       "19  I chose this computer because of the specs. 32...       4  \n",
       "20  This computer has everything I need and is muc...       5  \n",
       "21          Amazing for everything except Video Games       4  \n",
       "22  I just started a job in January.  I needed a g...       5  \n",
       "23  I really have no complaints about this laptop....       5  \n",
       "24  I bought this as a gift for my husband to use ...       5  \n",
       "25  I really enjoy this laptop so far. The shippin...       5  \n",
       "26  I haven’t used the touchscreen as this is a ne...       5  \n",
       "27  This is an ok computer. Nothing really special...       2  \n",
       "28  Update: computer keep shutting down and restar...       3  \n",
       "29  This is a great computor, a lot of bang for yo...       5  "
      ]
     },
     "execution_count": 65,
     "metadata": {},
     "output_type": "execute_result"
    }
   ],
   "source": [
    "#Run the polarity score on entire dataset\n",
    "df"
   ]
  },
  {
   "cell_type": "code",
   "execution_count": 68,
   "id": "b7ba4d2b-bd45-42f8-a30d-1656e9b1c103",
   "metadata": {},
   "outputs": [
    {
     "data": {
      "application/vnd.jupyter.widget-view+json": {
       "model_id": "07371a9961134aae8951d67dc549549e",
       "version_major": 2,
       "version_minor": 0
      },
      "text/plain": [
       "  0%|          | 0/30 [00:00<?, ?it/s]"
      ]
     },
     "metadata": {},
     "output_type": "display_data"
    }
   ],
   "source": [
    "res = {}\n",
    "for i, row in tqdm(df.iterrows(), total=len(df)):\n",
    "    text = row['Review']\n",
    "    myid = i  # Use the index as the identifier\n",
    "    res[myid] = sia.polarity_scores(text)\n"
   ]
  },
  {
   "cell_type": "code",
   "execution_count": 72,
   "id": "ed5b30cb-bb66-4343-af41-70c257ee93e2",
   "metadata": {},
   "outputs": [
    {
     "data": {
      "text/html": [
       "<div>\n",
       "<style scoped>\n",
       "    .dataframe tbody tr th:only-of-type {\n",
       "        vertical-align: middle;\n",
       "    }\n",
       "\n",
       "    .dataframe tbody tr th {\n",
       "        vertical-align: top;\n",
       "    }\n",
       "\n",
       "    .dataframe thead th {\n",
       "        text-align: right;\n",
       "    }\n",
       "</style>\n",
       "<table border=\"1\" class=\"dataframe\">\n",
       "  <thead>\n",
       "    <tr style=\"text-align: right;\">\n",
       "      <th></th>\n",
       "      <th>neg</th>\n",
       "      <th>neu</th>\n",
       "      <th>pos</th>\n",
       "      <th>compound</th>\n",
       "    </tr>\n",
       "  </thead>\n",
       "  <tbody>\n",
       "    <tr>\n",
       "      <th>0</th>\n",
       "      <td>0.000</td>\n",
       "      <td>0.758</td>\n",
       "      <td>0.242</td>\n",
       "      <td>0.9360</td>\n",
       "    </tr>\n",
       "    <tr>\n",
       "      <th>1</th>\n",
       "      <td>0.000</td>\n",
       "      <td>0.196</td>\n",
       "      <td>0.804</td>\n",
       "      <td>0.6249</td>\n",
       "    </tr>\n",
       "    <tr>\n",
       "      <th>2</th>\n",
       "      <td>0.000</td>\n",
       "      <td>1.000</td>\n",
       "      <td>0.000</td>\n",
       "      <td>0.0000</td>\n",
       "    </tr>\n",
       "    <tr>\n",
       "      <th>3</th>\n",
       "      <td>0.082</td>\n",
       "      <td>0.710</td>\n",
       "      <td>0.208</td>\n",
       "      <td>0.9814</td>\n",
       "    </tr>\n",
       "    <tr>\n",
       "      <th>4</th>\n",
       "      <td>0.000</td>\n",
       "      <td>1.000</td>\n",
       "      <td>0.000</td>\n",
       "      <td>0.0000</td>\n",
       "    </tr>\n",
       "    <tr>\n",
       "      <th>5</th>\n",
       "      <td>0.000</td>\n",
       "      <td>0.766</td>\n",
       "      <td>0.234</td>\n",
       "      <td>0.9201</td>\n",
       "    </tr>\n",
       "    <tr>\n",
       "      <th>6</th>\n",
       "      <td>0.000</td>\n",
       "      <td>0.417</td>\n",
       "      <td>0.583</td>\n",
       "      <td>0.7906</td>\n",
       "    </tr>\n",
       "    <tr>\n",
       "      <th>7</th>\n",
       "      <td>0.000</td>\n",
       "      <td>0.731</td>\n",
       "      <td>0.269</td>\n",
       "      <td>0.8735</td>\n",
       "    </tr>\n",
       "    <tr>\n",
       "      <th>8</th>\n",
       "      <td>0.000</td>\n",
       "      <td>0.573</td>\n",
       "      <td>0.427</td>\n",
       "      <td>0.8481</td>\n",
       "    </tr>\n",
       "    <tr>\n",
       "      <th>9</th>\n",
       "      <td>0.134</td>\n",
       "      <td>0.637</td>\n",
       "      <td>0.229</td>\n",
       "      <td>0.6883</td>\n",
       "    </tr>\n",
       "    <tr>\n",
       "      <th>10</th>\n",
       "      <td>0.050</td>\n",
       "      <td>0.771</td>\n",
       "      <td>0.179</td>\n",
       "      <td>0.9349</td>\n",
       "    </tr>\n",
       "    <tr>\n",
       "      <th>11</th>\n",
       "      <td>0.000</td>\n",
       "      <td>0.904</td>\n",
       "      <td>0.096</td>\n",
       "      <td>0.7964</td>\n",
       "    </tr>\n",
       "    <tr>\n",
       "      <th>12</th>\n",
       "      <td>0.000</td>\n",
       "      <td>0.764</td>\n",
       "      <td>0.236</td>\n",
       "      <td>0.4754</td>\n",
       "    </tr>\n",
       "    <tr>\n",
       "      <th>13</th>\n",
       "      <td>0.016</td>\n",
       "      <td>0.771</td>\n",
       "      <td>0.213</td>\n",
       "      <td>0.9413</td>\n",
       "    </tr>\n",
       "    <tr>\n",
       "      <th>14</th>\n",
       "      <td>0.000</td>\n",
       "      <td>1.000</td>\n",
       "      <td>0.000</td>\n",
       "      <td>0.0000</td>\n",
       "    </tr>\n",
       "    <tr>\n",
       "      <th>15</th>\n",
       "      <td>0.000</td>\n",
       "      <td>0.683</td>\n",
       "      <td>0.317</td>\n",
       "      <td>0.8674</td>\n",
       "    </tr>\n",
       "    <tr>\n",
       "      <th>16</th>\n",
       "      <td>0.000</td>\n",
       "      <td>0.958</td>\n",
       "      <td>0.042</td>\n",
       "      <td>0.3716</td>\n",
       "    </tr>\n",
       "    <tr>\n",
       "      <th>17</th>\n",
       "      <td>0.000</td>\n",
       "      <td>0.310</td>\n",
       "      <td>0.690</td>\n",
       "      <td>0.9392</td>\n",
       "    </tr>\n",
       "    <tr>\n",
       "      <th>18</th>\n",
       "      <td>0.000</td>\n",
       "      <td>0.685</td>\n",
       "      <td>0.315</td>\n",
       "      <td>0.5563</td>\n",
       "    </tr>\n",
       "    <tr>\n",
       "      <th>19</th>\n",
       "      <td>0.000</td>\n",
       "      <td>1.000</td>\n",
       "      <td>0.000</td>\n",
       "      <td>0.0000</td>\n",
       "    </tr>\n",
       "    <tr>\n",
       "      <th>20</th>\n",
       "      <td>0.000</td>\n",
       "      <td>0.813</td>\n",
       "      <td>0.187</td>\n",
       "      <td>0.6486</td>\n",
       "    </tr>\n",
       "    <tr>\n",
       "      <th>21</th>\n",
       "      <td>0.000</td>\n",
       "      <td>0.568</td>\n",
       "      <td>0.432</td>\n",
       "      <td>0.5859</td>\n",
       "    </tr>\n",
       "    <tr>\n",
       "      <th>22</th>\n",
       "      <td>0.130</td>\n",
       "      <td>0.716</td>\n",
       "      <td>0.154</td>\n",
       "      <td>0.2263</td>\n",
       "    </tr>\n",
       "    <tr>\n",
       "      <th>23</th>\n",
       "      <td>0.151</td>\n",
       "      <td>0.807</td>\n",
       "      <td>0.043</td>\n",
       "      <td>-0.5904</td>\n",
       "    </tr>\n",
       "    <tr>\n",
       "      <th>24</th>\n",
       "      <td>0.056</td>\n",
       "      <td>0.753</td>\n",
       "      <td>0.192</td>\n",
       "      <td>0.9683</td>\n",
       "    </tr>\n",
       "    <tr>\n",
       "      <th>25</th>\n",
       "      <td>0.025</td>\n",
       "      <td>0.832</td>\n",
       "      <td>0.143</td>\n",
       "      <td>0.9829</td>\n",
       "    </tr>\n",
       "    <tr>\n",
       "      <th>26</th>\n",
       "      <td>0.000</td>\n",
       "      <td>0.758</td>\n",
       "      <td>0.242</td>\n",
       "      <td>0.8228</td>\n",
       "    </tr>\n",
       "    <tr>\n",
       "      <th>27</th>\n",
       "      <td>0.113</td>\n",
       "      <td>0.802</td>\n",
       "      <td>0.085</td>\n",
       "      <td>-0.7719</td>\n",
       "    </tr>\n",
       "    <tr>\n",
       "      <th>28</th>\n",
       "      <td>0.030</td>\n",
       "      <td>0.831</td>\n",
       "      <td>0.139</td>\n",
       "      <td>0.9594</td>\n",
       "    </tr>\n",
       "    <tr>\n",
       "      <th>29</th>\n",
       "      <td>0.000</td>\n",
       "      <td>0.619</td>\n",
       "      <td>0.381</td>\n",
       "      <td>0.9880</td>\n",
       "    </tr>\n",
       "  </tbody>\n",
       "</table>\n",
       "</div>"
      ],
      "text/plain": [
       "      neg    neu    pos  compound\n",
       "0   0.000  0.758  0.242    0.9360\n",
       "1   0.000  0.196  0.804    0.6249\n",
       "2   0.000  1.000  0.000    0.0000\n",
       "3   0.082  0.710  0.208    0.9814\n",
       "4   0.000  1.000  0.000    0.0000\n",
       "5   0.000  0.766  0.234    0.9201\n",
       "6   0.000  0.417  0.583    0.7906\n",
       "7   0.000  0.731  0.269    0.8735\n",
       "8   0.000  0.573  0.427    0.8481\n",
       "9   0.134  0.637  0.229    0.6883\n",
       "10  0.050  0.771  0.179    0.9349\n",
       "11  0.000  0.904  0.096    0.7964\n",
       "12  0.000  0.764  0.236    0.4754\n",
       "13  0.016  0.771  0.213    0.9413\n",
       "14  0.000  1.000  0.000    0.0000\n",
       "15  0.000  0.683  0.317    0.8674\n",
       "16  0.000  0.958  0.042    0.3716\n",
       "17  0.000  0.310  0.690    0.9392\n",
       "18  0.000  0.685  0.315    0.5563\n",
       "19  0.000  1.000  0.000    0.0000\n",
       "20  0.000  0.813  0.187    0.6486\n",
       "21  0.000  0.568  0.432    0.5859\n",
       "22  0.130  0.716  0.154    0.2263\n",
       "23  0.151  0.807  0.043   -0.5904\n",
       "24  0.056  0.753  0.192    0.9683\n",
       "25  0.025  0.832  0.143    0.9829\n",
       "26  0.000  0.758  0.242    0.8228\n",
       "27  0.113  0.802  0.085   -0.7719\n",
       "28  0.030  0.831  0.139    0.9594\n",
       "29  0.000  0.619  0.381    0.9880"
      ]
     },
     "execution_count": 72,
     "metadata": {},
     "output_type": "execute_result"
    }
   ],
   "source": [
    "# .T will flip vertically\n",
    "pd.DataFrame(res).T"
   ]
  },
  {
   "cell_type": "code",
   "execution_count": 75,
   "id": "d4ce043e-f1df-4df2-8fb0-7c821d211473",
   "metadata": {},
   "outputs": [],
   "source": [
    "vaders = pd.DataFrame(res).T\n",
    "vaders.reset_index(inplace=True)\n",
    "vaders.rename(columns={'index': 'Id'}, inplace=True)\n",
    "vaders = vaders.merge(df, how='left', left_index=True, right_index=True)\n"
   ]
  },
  {
   "cell_type": "code",
   "execution_count": 76,
   "id": "6a4df261-7c68-4f72-823f-0ec9f7d45cdb",
   "metadata": {},
   "outputs": [
    {
     "data": {
      "text/html": [
       "<div>\n",
       "<style scoped>\n",
       "    .dataframe tbody tr th:only-of-type {\n",
       "        vertical-align: middle;\n",
       "    }\n",
       "\n",
       "    .dataframe tbody tr th {\n",
       "        vertical-align: top;\n",
       "    }\n",
       "\n",
       "    .dataframe thead th {\n",
       "        text-align: right;\n",
       "    }\n",
       "</style>\n",
       "<table border=\"1\" class=\"dataframe\">\n",
       "  <thead>\n",
       "    <tr style=\"text-align: right;\">\n",
       "      <th></th>\n",
       "      <th>Id</th>\n",
       "      <th>neg</th>\n",
       "      <th>neu</th>\n",
       "      <th>pos</th>\n",
       "      <th>compound</th>\n",
       "      <th>Product Name</th>\n",
       "      <th>Review</th>\n",
       "      <th>Rating</th>\n",
       "    </tr>\n",
       "  </thead>\n",
       "  <tbody>\n",
       "    <tr>\n",
       "      <th>0</th>\n",
       "      <td>0</td>\n",
       "      <td>0.000</td>\n",
       "      <td>0.758</td>\n",
       "      <td>0.242</td>\n",
       "      <td>0.9360</td>\n",
       "      <td>HP 17 Laptop, 17.3” HD+ Display, 11th Gen Inte...</td>\n",
       "      <td>The laptop's screen is huge and great picture ...</td>\n",
       "      <td>5</td>\n",
       "    </tr>\n",
       "    <tr>\n",
       "      <th>1</th>\n",
       "      <td>1</td>\n",
       "      <td>0.000</td>\n",
       "      <td>0.196</td>\n",
       "      <td>0.804</td>\n",
       "      <td>0.6249</td>\n",
       "      <td>HP 17 Laptop, 17.3” HD+ Display, 11th Gen Inte...</td>\n",
       "      <td>Great product</td>\n",
       "      <td>5</td>\n",
       "    </tr>\n",
       "    <tr>\n",
       "      <th>2</th>\n",
       "      <td>2</td>\n",
       "      <td>0.000</td>\n",
       "      <td>1.000</td>\n",
       "      <td>0.000</td>\n",
       "      <td>0.0000</td>\n",
       "      <td>HP Newest Pavilion 15.6\" HD Laptop, Intel Quad...</td>\n",
       "      <td>See review title.</td>\n",
       "      <td>4</td>\n",
       "    </tr>\n",
       "    <tr>\n",
       "      <th>3</th>\n",
       "      <td>3</td>\n",
       "      <td>0.082</td>\n",
       "      <td>0.710</td>\n",
       "      <td>0.208</td>\n",
       "      <td>0.9814</td>\n",
       "      <td>HP Newest Pavilion 15.6\" HD Laptop, Intel Quad...</td>\n",
       "      <td>The laptop works great so far. It wasn't easy ...</td>\n",
       "      <td>5</td>\n",
       "    </tr>\n",
       "    <tr>\n",
       "      <th>4</th>\n",
       "      <td>4</td>\n",
       "      <td>0.000</td>\n",
       "      <td>1.000</td>\n",
       "      <td>0.000</td>\n",
       "      <td>0.0000</td>\n",
       "      <td>HP Newest Pavilion 15.6\" HD Laptop, Intel Quad...</td>\n",
       "      <td>Si me sgradoy</td>\n",
       "      <td>4</td>\n",
       "    </tr>\n",
       "  </tbody>\n",
       "</table>\n",
       "</div>"
      ],
      "text/plain": [
       "   Id    neg    neu    pos  compound  \\\n",
       "0   0  0.000  0.758  0.242    0.9360   \n",
       "1   1  0.000  0.196  0.804    0.6249   \n",
       "2   2  0.000  1.000  0.000    0.0000   \n",
       "3   3  0.082  0.710  0.208    0.9814   \n",
       "4   4  0.000  1.000  0.000    0.0000   \n",
       "\n",
       "                                        Product Name  \\\n",
       "0  HP 17 Laptop, 17.3” HD+ Display, 11th Gen Inte...   \n",
       "1  HP 17 Laptop, 17.3” HD+ Display, 11th Gen Inte...   \n",
       "2  HP Newest Pavilion 15.6\" HD Laptop, Intel Quad...   \n",
       "3  HP Newest Pavilion 15.6\" HD Laptop, Intel Quad...   \n",
       "4  HP Newest Pavilion 15.6\" HD Laptop, Intel Quad...   \n",
       "\n",
       "                                              Review  Rating  \n",
       "0  The laptop's screen is huge and great picture ...       5  \n",
       "1                                      Great product       5  \n",
       "2                                  See review title.       4  \n",
       "3  The laptop works great so far. It wasn't easy ...       5  \n",
       "4                                      Si me sgradoy       4  "
      ]
     },
     "execution_count": 76,
     "metadata": {},
     "output_type": "execute_result"
    }
   ],
   "source": [
    "#Now we have sentiment score and metadata\n",
    "\n",
    "vaders.head()"
   ]
  },
  {
   "cell_type": "code",
   "execution_count": 80,
   "id": "f351f02c-953e-4df2-b7fa-bd2fc4bcb3b0",
   "metadata": {},
   "outputs": [
    {
     "data": {
      "image/png": "[encoded data removed]",
      "text/plain": [
       "<Figure size 640x480 with 1 Axes>"
      ]
     },
     "metadata": {},
     "output_type": "display_data"
    }
   ],
   "source": [
    "# plot vader results\n",
    "sns.barplot(data=vaders, x='Rating', y='compound')\n",
    "ax.set_title('Compound Score by Amazon Rating Review')\n",
    "plt.show()"
   ]
  },
  {
   "cell_type": "code",
   "execution_count": 83,
   "id": "f1fc1a7e-1f07-486f-80ac-e73e06dcbe2d",
   "metadata": {},
   "outputs": [
    {
     "data": {
      "image/png": "[encoded data removed]",
      "text/plain": [
       "<Figure size 640x480 with 1 Axes>"
      ]
     },
     "metadata": {},
     "output_type": "display_data"
    }
   ],
   "source": [
    "sns.barplot(data=vaders, x ='Rating', y='pos')\n",
    "ax.set_title('Positive Score by Amazon Rating Review')\n",
    "plt.show()"
   ]
  },
  {
   "cell_type": "code",
   "execution_count": 84,
   "id": "3213df5d-bc49-42c9-98af-4d9d8d9f36e7",
   "metadata": {},
   "outputs": [
    {
     "data": {
      "image/png": "[encoded data removed]",
      "text/plain": [
       "<Figure size 640x480 with 1 Axes>"
      ]
     },
     "metadata": {},
     "output_type": "display_data"
    }
   ],
   "source": [
    "sns.barplot(data=vaders, x ='Rating', y='neu')\n",
    "ax.set_title('Netural Score by Amazon Rating Review')\n",
    "plt.show()"
   ]
  },
  {
   "cell_type": "code",
   "execution_count": 85,
   "id": "beb46f2f-ae30-45d5-98a0-f6fb8524cf7f",
   "metadata": {},
   "outputs": [
    {
     "data": {
      "image/png": "[encoded data removed]",
      "text/plain": [
       "<Figure size 640x480 with 1 Axes>"
      ]
     },
     "metadata": {},
     "output_type": "display_data"
    }
   ],
   "source": [
    "sns.barplot(data=vaders, x ='Rating', y='neg')\n",
    "ax.set_title('Negative Score by Amazon Rating Review')\n",
    "plt.show()"
   ]
  },
  {
   "cell_type": "code",
   "execution_count": 88,
   "id": "63fca360-cec9-438f-b4ec-4d4205b3a124",
   "metadata": {},
   "outputs": [
    {
     "data": {
      "image/png": "[encoded data removed]",
      "text/plain": [
       "<Figure size 1500x500 with 3 Axes>"
      ]
     },
     "metadata": {},
     "output_type": "display_data"
    }
   ],
   "source": [
    "fig, axs = plt.subplots(1, 3, figsize=(12, 5))\n",
    "sns.barplot(data=vaders, x ='Rating', y='pos',ax=axs[0])\n",
    "sns.barplot(data=vaders, x ='Rating', y='neu', ax=axs[1])\n",
    "sns.barplot(data=vaders, x ='Rating', y='neg', ax=axs[2])\n",
    "axs[0].set_title('Positive')\n",
    "axs[1].set_title('Netural')\n",
    "axs[2].set_title('Negative')\n",
    "plt.show()"
   ]
  },
  {
   "cell_type": "code",
   "execution_count": 92,
   "id": "145a414b-d22b-4898-931f-9cabb3cfcab4",
   "metadata": {},
   "outputs": [],
   "source": [
    "# Robert Pretrained Model\n",
    "from transformers import AutoTokenizer\n",
    "from transformers import AutoModelForSequenceClassification\n",
    "from scipy.special import softmax"
   ]
  },
  {
   "cell_type": "code",
   "execution_count": 93,
   "id": "11c49888-443f-47df-95d2-6766d50fb886",
   "metadata": {},
   "outputs": [
    {
     "data": {
      "application/vnd.jupyter.widget-view+json": {
       "model_id": "a565157dc1cf4a1b923523a4dd9d7a46",
       "version_major": 2,
       "version_minor": 0
      },
      "text/plain": [
       "Downloading:   0%|          | 0.00/747 [00:00<?, ?B/s]"
      ]
     },
     "metadata": {},
     "output_type": "display_data"
    },
    {
     "name": "stderr",
     "output_type": "stream",
     "text": [
      "C:\\Users\\NITU PANDEL\\anaconda3\\lib\\site-packages\\huggingface_hub\\file_download.py:123: UserWarning: `huggingface_hub` cache-system uses symlinks by default to efficiently store duplicated files but your machine does not support them in C:\\Users\\NITU PANDEL\\.cache\\huggingface\\hub. Caching files will still work but in a degraded version that might require more space on your disk. This warning can be disabled by setting the `HF_HUB_DISABLE_SYMLINKS_WARNING` environment variable. For more details, see https://huggingface.co/docs/huggingface_hub/how-to-cache#limitations.\n",
      "To support symlinks on Windows, you either need to activate Developer Mode or to run Python as an administrator. In order to see activate developer mode, see this article: https://docs.microsoft.com/en-us/windows/apps/get-started/enable-your-device-for-development\n",
      "  warnings.warn(message)\n"
     ]
    },
    {
     "data": {
      "application/vnd.jupyter.widget-view+json": {
       "model_id": "ac1f17a3f5bf463ebd7be794de3a9e86",
       "version_major": 2,
       "version_minor": 0
      },
      "text/plain": [
       "Downloading:   0%|          | 0.00/899k [00:00<?, ?B/s]"
      ]
     },
     "metadata": {},
     "output_type": "display_data"
    },
    {
     "data": {
      "application/vnd.jupyter.widget-view+json": {
       "model_id": "5e40eec8f7064bef98a37dea6050fb8c",
       "version_major": 2,
       "version_minor": 0
      },
      "text/plain": [
       "Downloading:   0%|          | 0.00/456k [00:00<?, ?B/s]"
      ]
     },
     "metadata": {},
     "output_type": "display_data"
    },
    {
     "data": {
      "application/vnd.jupyter.widget-view+json": {
       "model_id": "adbc8d47ec3948bc9685fdb431fadc5c",
       "version_major": 2,
       "version_minor": 0
      },
      "text/plain": [
       "Downloading:   0%|          | 0.00/150 [00:00<?, ?B/s]"
      ]
     },
     "metadata": {},
     "output_type": "display_data"
    },
    {
     "data": {
      "application/vnd.jupyter.widget-view+json": {
       "model_id": "98cfdfa9e09a460595f481097d42db9a",
       "version_major": 2,
       "version_minor": 0
      },
      "text/plain": [
       "Downloading:   0%|          | 0.00/499M [00:00<?, ?B/s]"
      ]
     },
     "metadata": {},
     "output_type": "display_data"
    }
   ],
   "source": [
    "MODEL = f\"cardiffnlp/twitter-roberta-base-sentiment\"\n",
    "tokenizer = AutoTokenizer.from_pretrained(MODEL)\n",
    "model = AutoModelForSequenceClassification.from_pretrained(MODEL)"
   ]
  },
  {
   "cell_type": "code",
   "execution_count": 94,
   "id": "f723d097-6410-42e3-9361-868d04ea9e12",
   "metadata": {},
   "outputs": [
    {
     "name": "stdout",
     "output_type": "stream",
     "text": [
      "It’s a great laptop, fast and easy to use. A lot of storage space and the graphics are pretty good for a standard laptop. However; if you’re buying for gaming purposes, note that most online games will not work and if they do, you’ll more than likely experience heavy glitchy.\n"
     ]
    },
    {
     "data": {
      "text/plain": [
       "{'neg': 0.0, 'neu': 0.766, 'pos': 0.234, 'compound': 0.9201}"
      ]
     },
     "execution_count": 94,
     "metadata": {},
     "output_type": "execute_result"
    }
   ],
   "source": [
    "#vader results on example\n",
    "print(example)\n",
    "sia.polarity_scores(example)\n"
   ]
  },
  {
   "cell_type": "code",
   "execution_count": 97,
   "id": "582df229-5a26-46dc-a198-17da5e0ba06e",
   "metadata": {},
   "outputs": [
    {
     "name": "stdout",
     "output_type": "stream",
     "text": [
      "{'roberta_neg': 0.12201861, 'roberta_neu': 0.23338921, 'roberta_pos': 0.64459217}\n"
     ]
    }
   ],
   "source": [
    "#Run for Robert Model\n",
    "encoded_text = tokenizer(example, return_tensors='pt')\n",
    "output = model(**encoded_text)\n",
    "scores = output[0][0].detach().numpy()\n",
    "scores = softmax(scores)\n",
    "scores_dict = {\n",
    "    'roberta_neg' : scores[0],\n",
    "    'roberta_neu' : scores[1],\n",
    "    'roberta_pos' : scores[2],\n",
    "}\n",
    "print(scores_dict)"
   ]
  },
  {
   "cell_type": "code",
   "execution_count": 98,
   "id": "cfa2aecb-e4f9-4bd2-b907-ee82926479d6",
   "metadata": {},
   "outputs": [],
   "source": [
    "def polarity_scores_roberta(example):\n",
    "    encoded_text = tokenizer(example, return_tensors='pt')\n",
    "    output = model(**encoded_text)\n",
    "    scores = output[0][0].detach().numpy()\n",
    "    scores = softmax(scores)\n",
    "    scores_dict = {\n",
    "        'roberta_neg' : scores[0],\n",
    "        'roberta_neu' : scores[1],\n",
    "        'roberta_pos' : scores[2]\n",
    "    }\n",
    "    return scores_dict"
   ]
  },
  {
   "cell_type": "code",
   "execution_count": 106,
   "id": "6a73a3d7-1d0a-4241-8da5-dee1ea33de32",
   "metadata": {},
   "outputs": [
    {
     "data": {
      "application/vnd.jupyter.widget-view+json": {
       "model_id": "a7be3c8ae5484a57ab4c8fad809c61e6",
       "version_major": 2,
       "version_minor": 0
      },
      "text/plain": [
       "  0%|          | 0/30 [00:00<?, ?it/s]"
      ]
     },
     "metadata": {},
     "output_type": "display_data"
    }
   ],
   "source": [
    "res = {}\n",
    "for i, row in tqdm(df.iterrows(), total=len(df)):\n",
    "    try:\n",
    "        \n",
    "    text = row['Review']\n",
    "    myid = i  # Use the index as the identifier\n",
    "    vader_result = sia.polarity_scores(text)\n",
    "    vader_result_rename = {}\n",
    "    for key, value in vader_result.items():\n",
    "        vader_result_rename[f\"vader_{key}\"] = value\n",
    "    roberta_result = polarity_scores_roberta(text)\n",
    "    both = {**vader_result_rename, **roberta_result}\n",
    "    break;    "
   ]
  },
  {
   "cell_type": "code",
   "execution_count": 107,
   "id": "3241269a-9424-4fd8-90c4-cfaf67829921",
   "metadata": {},
   "outputs": [
    {
     "data": {
      "text/plain": [
       "{'vader_neg': 0.0,\n",
       " 'vader_neu': 0.758,\n",
       " 'vader_pos': 0.242,\n",
       " 'vader_compound': 0.936,\n",
       " 'roberta_neg': 0.0044413083,\n",
       " 'roberta_neu': 0.022699893,\n",
       " 'roberta_pos': 0.9728588}"
      ]
     },
     "execution_count": 107,
     "metadata": {},
     "output_type": "execute_result"
    }
   ],
   "source": [
    "both"
   ]
  },
  {
   "cell_type": "code",
   "execution_count": 108,
   "id": "65f75982-40fb-4287-8036-6fe8d0a4ef89",
   "metadata": {},
   "outputs": [
    {
     "data": {
      "application/vnd.jupyter.widget-view+json": {
       "model_id": "223ade9859284bd4a519dcc82c5792d0",
       "version_major": 2,
       "version_minor": 0
      },
      "text/plain": [
       "  0%|          | 0/30 [00:00<?, ?it/s]"
      ]
     },
     "metadata": {},
     "output_type": "display_data"
    }
   ],
   "source": [
    "res = {}\n",
    "for i, row in tqdm(df.iterrows(), total=len(df)):\n",
    "    try:\n",
    "        text = row['Review']\n",
    "        vader_result = sia.polarity_scores(text)\n",
    "        vader_result_rename = {}\n",
    "        for key, value in vader_result.items():\n",
    "            vader_result_rename[f\"vader_{key}\"] = value\n",
    "        roberta_result = polarity_scores_roberta(text)\n",
    "        both = {**vader_result_rename, **roberta_result}\n",
    "        res[i] = both\n",
    "    except RuntimeError:\n",
    "        print(f'Broke for index {i}')"
   ]
  },
  {
   "cell_type": "code",
   "execution_count": 112,
   "id": "68927892-5a02-4be3-a040-a94bfbfa1f1a",
   "metadata": {},
   "outputs": [
    {
     "data": {
      "text/plain": [
       "{0: {'vader_neg': 0.0,\n",
       "  'vader_neu': 0.758,\n",
       "  'vader_pos': 0.242,\n",
       "  'vader_compound': 0.936,\n",
       "  'roberta_neg': 0.0044413083,\n",
       "  'roberta_neu': 0.022699893,\n",
       "  'roberta_pos': 0.9728588},\n",
       " 1: {'vader_neg': 0.0,\n",
       "  'vader_neu': 0.196,\n",
       "  'vader_pos': 0.804,\n",
       "  'vader_compound': 0.6249,\n",
       "  'roberta_neg': 0.0067282775,\n",
       "  'roberta_neu': 0.062391043,\n",
       "  'roberta_pos': 0.93088067},\n",
       " 2: {'vader_neg': 0.0,\n",
       "  'vader_neu': 1.0,\n",
       "  'vader_pos': 0.0,\n",
       "  'vader_compound': 0.0,\n",
       "  'roberta_neg': 0.17320983,\n",
       "  'roberta_neu': 0.7863955,\n",
       "  'roberta_pos': 0.040394712},\n",
       " 3: {'vader_neg': 0.082,\n",
       "  'vader_neu': 0.71,\n",
       "  'vader_pos': 0.208,\n",
       "  'vader_compound': 0.9814,\n",
       "  'roberta_neg': 0.0275013,\n",
       "  'roberta_neu': 0.07595872,\n",
       "  'roberta_pos': 0.89654},\n",
       " 4: {'vader_neg': 0.0,\n",
       "  'vader_neu': 1.0,\n",
       "  'vader_pos': 0.0,\n",
       "  'vader_compound': 0.0,\n",
       "  'roberta_neg': 0.15868726,\n",
       "  'roberta_neu': 0.69409376,\n",
       "  'roberta_pos': 0.14721902},\n",
       " 5: {'vader_neg': 0.0,\n",
       "  'vader_neu': 0.766,\n",
       "  'vader_pos': 0.234,\n",
       "  'vader_compound': 0.9201,\n",
       "  'roberta_neg': 0.12201861,\n",
       "  'roberta_neu': 0.23338921,\n",
       "  'roberta_pos': 0.64459217},\n",
       " 6: {'vader_neg': 0.0,\n",
       "  'vader_neu': 0.417,\n",
       "  'vader_pos': 0.583,\n",
       "  'vader_compound': 0.7906,\n",
       "  'roberta_neg': 0.003969747,\n",
       "  'roberta_neu': 0.034098085,\n",
       "  'roberta_pos': 0.9619321},\n",
       " 7: {'vader_neg': 0.0,\n",
       "  'vader_neu': 0.731,\n",
       "  'vader_pos': 0.269,\n",
       "  'vader_compound': 0.8735,\n",
       "  'roberta_neg': 0.002496821,\n",
       "  'roberta_neu': 0.021873416,\n",
       "  'roberta_pos': 0.97562975},\n",
       " 8: {'vader_neg': 0.0,\n",
       "  'vader_neu': 0.573,\n",
       "  'vader_pos': 0.427,\n",
       "  'vader_compound': 0.8481,\n",
       "  'roberta_neg': 0.0012912548,\n",
       "  'roberta_neu': 0.014668376,\n",
       "  'roberta_pos': 0.98404044},\n",
       " 9: {'vader_neg': 0.134,\n",
       "  'vader_neu': 0.637,\n",
       "  'vader_pos': 0.229,\n",
       "  'vader_compound': 0.6883,\n",
       "  'roberta_neg': 0.8786259,\n",
       "  'roberta_neu': 0.10121359,\n",
       "  'roberta_pos': 0.020160493},\n",
       " 10: {'vader_neg': 0.05,\n",
       "  'vader_neu': 0.771,\n",
       "  'vader_pos': 0.179,\n",
       "  'vader_compound': 0.9349,\n",
       "  'roberta_neg': 0.29047018,\n",
       "  'roberta_neu': 0.4811351,\n",
       "  'roberta_pos': 0.22839475},\n",
       " 11: {'vader_neg': 0.0,\n",
       "  'vader_neu': 0.904,\n",
       "  'vader_pos': 0.096,\n",
       "  'vader_compound': 0.7964,\n",
       "  'roberta_neg': 0.60321337,\n",
       "  'roberta_neu': 0.3494836,\n",
       "  'roberta_pos': 0.047303043},\n",
       " 12: {'vader_neg': 0.0,\n",
       "  'vader_neu': 0.764,\n",
       "  'vader_pos': 0.236,\n",
       "  'vader_compound': 0.4754,\n",
       "  'roberta_neg': 0.0017580407,\n",
       "  'roberta_neu': 0.025968691,\n",
       "  'roberta_pos': 0.97227323},\n",
       " 13: {'vader_neg': 0.016,\n",
       "  'vader_neu': 0.771,\n",
       "  'vader_pos': 0.213,\n",
       "  'vader_compound': 0.9413,\n",
       "  'roberta_neg': 0.008524245,\n",
       "  'roberta_neu': 0.0420589,\n",
       "  'roberta_pos': 0.9494169},\n",
       " 14: {'vader_neg': 0.0,\n",
       "  'vader_neu': 1.0,\n",
       "  'vader_pos': 0.0,\n",
       "  'vader_compound': 0.0,\n",
       "  'roberta_neg': 0.00541564,\n",
       "  'roberta_neu': 0.12105975,\n",
       "  'roberta_pos': 0.8735246},\n",
       " 15: {'vader_neg': 0.0,\n",
       "  'vader_neu': 0.683,\n",
       "  'vader_pos': 0.317,\n",
       "  'vader_compound': 0.8674,\n",
       "  'roberta_neg': 0.004556857,\n",
       "  'roberta_neu': 0.021750176,\n",
       "  'roberta_pos': 0.97369295},\n",
       " 16: {'vader_neg': 0.0,\n",
       "  'vader_neu': 0.958,\n",
       "  'vader_pos': 0.042,\n",
       "  'vader_compound': 0.3716,\n",
       "  'roberta_neg': 0.60323906,\n",
       "  'roberta_neu': 0.3224557,\n",
       "  'roberta_pos': 0.07430529},\n",
       " 17: {'vader_neg': 0.0,\n",
       "  'vader_neu': 0.31,\n",
       "  'vader_pos': 0.69,\n",
       "  'vader_compound': 0.9392,\n",
       "  'roberta_neg': 0.0014888272,\n",
       "  'roberta_neu': 0.013131714,\n",
       "  'roberta_pos': 0.98537946},\n",
       " 18: {'vader_neg': 0.0,\n",
       "  'vader_neu': 0.685,\n",
       "  'vader_pos': 0.315,\n",
       "  'vader_compound': 0.5563,\n",
       "  'roberta_neg': 0.0010686525,\n",
       "  'roberta_neu': 0.01104303,\n",
       "  'roberta_pos': 0.9878883},\n",
       " 19: {'vader_neg': 0.0,\n",
       "  'vader_neu': 1.0,\n",
       "  'vader_pos': 0.0,\n",
       "  'vader_compound': 0.0,\n",
       "  'roberta_neg': 0.0026793645,\n",
       "  'roberta_neu': 0.12040631,\n",
       "  'roberta_pos': 0.8769143},\n",
       " 20: {'vader_neg': 0.0,\n",
       "  'vader_neu': 0.813,\n",
       "  'vader_pos': 0.187,\n",
       "  'vader_compound': 0.6486,\n",
       "  'roberta_neg': 0.004240427,\n",
       "  'roberta_neu': 0.032720737,\n",
       "  'roberta_pos': 0.96303886},\n",
       " 21: {'vader_neg': 0.0,\n",
       "  'vader_neu': 0.568,\n",
       "  'vader_pos': 0.432,\n",
       "  'vader_compound': 0.5859,\n",
       "  'roberta_neg': 0.048522267,\n",
       "  'roberta_neu': 0.2829201,\n",
       "  'roberta_pos': 0.66855764},\n",
       " 22: {'vader_neg': 0.13,\n",
       "  'vader_neu': 0.716,\n",
       "  'vader_pos': 0.154,\n",
       "  'vader_compound': 0.2263,\n",
       "  'roberta_neg': 0.0072983503,\n",
       "  'roberta_neu': 0.06126224,\n",
       "  'roberta_pos': 0.93143946},\n",
       " 23: {'vader_neg': 0.151,\n",
       "  'vader_neu': 0.807,\n",
       "  'vader_pos': 0.043,\n",
       "  'vader_compound': -0.5904,\n",
       "  'roberta_neg': 0.005016071,\n",
       "  'roberta_neu': 0.03709231,\n",
       "  'roberta_pos': 0.9578916},\n",
       " 24: {'vader_neg': 0.056,\n",
       "  'vader_neu': 0.753,\n",
       "  'vader_pos': 0.192,\n",
       "  'vader_compound': 0.9683,\n",
       "  'roberta_neg': 0.013045311,\n",
       "  'roberta_neu': 0.053459227,\n",
       "  'roberta_pos': 0.9334955},\n",
       " 25: {'vader_neg': 0.025,\n",
       "  'vader_neu': 0.832,\n",
       "  'vader_pos': 0.143,\n",
       "  'vader_compound': 0.9829,\n",
       "  'roberta_neg': 0.028060205,\n",
       "  'roberta_neu': 0.10826234,\n",
       "  'roberta_pos': 0.86367744},\n",
       " 26: {'vader_neg': 0.0,\n",
       "  'vader_neu': 0.758,\n",
       "  'vader_pos': 0.242,\n",
       "  'vader_compound': 0.8228,\n",
       "  'roberta_neg': 0.05488577,\n",
       "  'roberta_neu': 0.25728008,\n",
       "  'roberta_pos': 0.68783414},\n",
       " 27: {'vader_neg': 0.113,\n",
       "  'vader_neu': 0.802,\n",
       "  'vader_pos': 0.085,\n",
       "  'vader_compound': -0.7719,\n",
       "  'roberta_neg': 0.8564885,\n",
       "  'roberta_neu': 0.12178823,\n",
       "  'roberta_pos': 0.021723162},\n",
       " 28: {'vader_neg': 0.03,\n",
       "  'vader_neu': 0.831,\n",
       "  'vader_pos': 0.139,\n",
       "  'vader_compound': 0.9594,\n",
       "  'roberta_neg': 0.18461317,\n",
       "  'roberta_neu': 0.39180976,\n",
       "  'roberta_pos': 0.42357713},\n",
       " 29: {'vader_neg': 0.0,\n",
       "  'vader_neu': 0.619,\n",
       "  'vader_pos': 0.381,\n",
       "  'vader_compound': 0.988,\n",
       "  'roberta_neg': 0.0017416861,\n",
       "  'roberta_neu': 0.008791254,\n",
       "  'roberta_pos': 0.9894671}}"
      ]
     },
     "execution_count": 112,
     "metadata": {},
     "output_type": "execute_result"
    }
   ],
   "source": [
    "res"
   ]
  },
  {
   "cell_type": "code",
   "execution_count": 115,
   "id": "47d85b88-6d45-44f4-ab97-72c77b2c2296",
   "metadata": {},
   "outputs": [],
   "source": [
    "results_df = pd.DataFrame(res).T\n",
    "results_df.reset_index(inplace=True)\n",
    "results_df.rename(columns={'index': 'Id'}, inplace=True)\n",
    "results_df = results_df.merge(df, how='left', left_index=True, right_index=True)"
   ]
  },
  {
   "cell_type": "code",
   "execution_count": 116,
   "id": "4f8d5257-e136-41ed-91df-2437c88a1aaf",
   "metadata": {},
   "outputs": [
    {
     "data": {
      "text/html": [
       "<div>\n",
       "<style scoped>\n",
       "    .dataframe tbody tr th:only-of-type {\n",
       "        vertical-align: middle;\n",
       "    }\n",
       "\n",
       "    .dataframe tbody tr th {\n",
       "        vertical-align: top;\n",
       "    }\n",
       "\n",
       "    .dataframe thead th {\n",
       "        text-align: right;\n",
       "    }\n",
       "</style>\n",
       "<table border=\"1\" class=\"dataframe\">\n",
       "  <thead>\n",
       "    <tr style=\"text-align: right;\">\n",
       "      <th></th>\n",
       "      <th>Id</th>\n",
       "      <th>vader_neg</th>\n",
       "      <th>vader_neu</th>\n",
       "      <th>vader_pos</th>\n",
       "      <th>vader_compound</th>\n",
       "      <th>roberta_neg</th>\n",
       "      <th>roberta_neu</th>\n",
       "      <th>roberta_pos</th>\n",
       "      <th>Product Name</th>\n",
       "      <th>Review</th>\n",
       "      <th>Rating</th>\n",
       "    </tr>\n",
       "  </thead>\n",
       "  <tbody>\n",
       "    <tr>\n",
       "      <th>0</th>\n",
       "      <td>0</td>\n",
       "      <td>0.000</td>\n",
       "      <td>0.758</td>\n",
       "      <td>0.242</td>\n",
       "      <td>0.9360</td>\n",
       "      <td>0.004441</td>\n",
       "      <td>0.022700</td>\n",
       "      <td>0.972859</td>\n",
       "      <td>HP 17 Laptop, 17.3” HD+ Display, 11th Gen Inte...</td>\n",
       "      <td>The laptop's screen is huge and great picture ...</td>\n",
       "      <td>5</td>\n",
       "    </tr>\n",
       "    <tr>\n",
       "      <th>1</th>\n",
       "      <td>1</td>\n",
       "      <td>0.000</td>\n",
       "      <td>0.196</td>\n",
       "      <td>0.804</td>\n",
       "      <td>0.6249</td>\n",
       "      <td>0.006728</td>\n",
       "      <td>0.062391</td>\n",
       "      <td>0.930881</td>\n",
       "      <td>HP 17 Laptop, 17.3” HD+ Display, 11th Gen Inte...</td>\n",
       "      <td>Great product</td>\n",
       "      <td>5</td>\n",
       "    </tr>\n",
       "    <tr>\n",
       "      <th>2</th>\n",
       "      <td>2</td>\n",
       "      <td>0.000</td>\n",
       "      <td>1.000</td>\n",
       "      <td>0.000</td>\n",
       "      <td>0.0000</td>\n",
       "      <td>0.173210</td>\n",
       "      <td>0.786395</td>\n",
       "      <td>0.040395</td>\n",
       "      <td>HP Newest Pavilion 15.6\" HD Laptop, Intel Quad...</td>\n",
       "      <td>See review title.</td>\n",
       "      <td>4</td>\n",
       "    </tr>\n",
       "    <tr>\n",
       "      <th>3</th>\n",
       "      <td>3</td>\n",
       "      <td>0.082</td>\n",
       "      <td>0.710</td>\n",
       "      <td>0.208</td>\n",
       "      <td>0.9814</td>\n",
       "      <td>0.027501</td>\n",
       "      <td>0.075959</td>\n",
       "      <td>0.896540</td>\n",
       "      <td>HP Newest Pavilion 15.6\" HD Laptop, Intel Quad...</td>\n",
       "      <td>The laptop works great so far. It wasn't easy ...</td>\n",
       "      <td>5</td>\n",
       "    </tr>\n",
       "    <tr>\n",
       "      <th>4</th>\n",
       "      <td>4</td>\n",
       "      <td>0.000</td>\n",
       "      <td>1.000</td>\n",
       "      <td>0.000</td>\n",
       "      <td>0.0000</td>\n",
       "      <td>0.158687</td>\n",
       "      <td>0.694094</td>\n",
       "      <td>0.147219</td>\n",
       "      <td>HP Newest Pavilion 15.6\" HD Laptop, Intel Quad...</td>\n",
       "      <td>Si me sgradoy</td>\n",
       "      <td>4</td>\n",
       "    </tr>\n",
       "  </tbody>\n",
       "</table>\n",
       "</div>"
      ],
      "text/plain": [
       "   Id  vader_neg  vader_neu  vader_pos  vader_compound  roberta_neg  \\\n",
       "0   0      0.000      0.758      0.242          0.9360     0.004441   \n",
       "1   1      0.000      0.196      0.804          0.6249     0.006728   \n",
       "2   2      0.000      1.000      0.000          0.0000     0.173210   \n",
       "3   3      0.082      0.710      0.208          0.9814     0.027501   \n",
       "4   4      0.000      1.000      0.000          0.0000     0.158687   \n",
       "\n",
       "   roberta_neu  roberta_pos  \\\n",
       "0     0.022700     0.972859   \n",
       "1     0.062391     0.930881   \n",
       "2     0.786395     0.040395   \n",
       "3     0.075959     0.896540   \n",
       "4     0.694094     0.147219   \n",
       "\n",
       "                                        Product Name  \\\n",
       "0  HP 17 Laptop, 17.3” HD+ Display, 11th Gen Inte...   \n",
       "1  HP 17 Laptop, 17.3” HD+ Display, 11th Gen Inte...   \n",
       "2  HP Newest Pavilion 15.6\" HD Laptop, Intel Quad...   \n",
       "3  HP Newest Pavilion 15.6\" HD Laptop, Intel Quad...   \n",
       "4  HP Newest Pavilion 15.6\" HD Laptop, Intel Quad...   \n",
       "\n",
       "                                              Review  Rating  \n",
       "0  The laptop's screen is huge and great picture ...       5  \n",
       "1                                      Great product       5  \n",
       "2                                  See review title.       4  \n",
       "3  The laptop works great so far. It wasn't easy ...       5  \n",
       "4                                      Si me sgradoy       4  "
      ]
     },
     "execution_count": 116,
     "metadata": {},
     "output_type": "execute_result"
    }
   ],
   "source": [
    "results_df.head()"
   ]
  },
  {
   "cell_type": "code",
   "execution_count": 117,
   "id": "a2122268-81ac-4d1f-a29d-5ffaf1161eca",
   "metadata": {},
   "outputs": [
    {
     "data": {
      "text/plain": [
       "Index(['Id', 'vader_neg', 'vader_neu', 'vader_pos', 'vader_compound',\n",
       "       'roberta_neg', 'roberta_neu', 'roberta_pos', 'Product Name', 'Review',\n",
       "       'Rating'],\n",
       "      dtype='object')"
      ]
     },
     "execution_count": 117,
     "metadata": {},
     "output_type": "execute_result"
    }
   ],
   "source": [
    "results_df.columns"
   ]
  },
  {
   "cell_type": "code",
   "execution_count": 118,
   "id": "7a9da06a-252d-4e94-9d28-af0e49cbbd80",
   "metadata": {},
   "outputs": [
    {
     "data": {
      "image/png": "[encoded data removed]",
      "text/plain": [
       "<Figure size 1558.88x1500 with 42 Axes>"
      ]
     },
     "metadata": {},
     "output_type": "display_data"
    }
   ],
   "source": [
    "# Compare Scores between models\n",
    "sns.pairplot(data=results_df,\n",
    "             vars=['vader_neg', 'vader_neu', 'vader_pos',\n",
    "                  'roberta_neg', 'roberta_neu', 'roberta_pos'],\n",
    "            hue='Rating',\n",
    "            palette='tab10')\n",
    "plt.show()"
   ]
  },
  {
   "cell_type": "code",
   "execution_count": 119,
   "id": "7cae7f64-720c-442f-a95f-48bea8d5b27f",
   "metadata": {},
   "outputs": [
    {
     "data": {
      "text/html": [
       "<div>\n",
       "<style scoped>\n",
       "    .dataframe tbody tr th:only-of-type {\n",
       "        vertical-align: middle;\n",
       "    }\n",
       "\n",
       "    .dataframe tbody tr th {\n",
       "        vertical-align: top;\n",
       "    }\n",
       "\n",
       "    .dataframe thead th {\n",
       "        text-align: right;\n",
       "    }\n",
       "</style>\n",
       "<table border=\"1\" class=\"dataframe\">\n",
       "  <thead>\n",
       "    <tr style=\"text-align: right;\">\n",
       "      <th></th>\n",
       "      <th>Id</th>\n",
       "      <th>vader_neg</th>\n",
       "      <th>vader_neu</th>\n",
       "      <th>vader_pos</th>\n",
       "      <th>vader_compound</th>\n",
       "      <th>roberta_neg</th>\n",
       "      <th>roberta_neu</th>\n",
       "      <th>roberta_pos</th>\n",
       "      <th>Product Name</th>\n",
       "      <th>Review</th>\n",
       "      <th>Rating</th>\n",
       "    </tr>\n",
       "  </thead>\n",
       "  <tbody>\n",
       "    <tr>\n",
       "      <th>9</th>\n",
       "      <td>9</td>\n",
       "      <td>0.134</td>\n",
       "      <td>0.637</td>\n",
       "      <td>0.229</td>\n",
       "      <td>0.6883</td>\n",
       "      <td>0.878626</td>\n",
       "      <td>0.101214</td>\n",
       "      <td>0.02016</td>\n",
       "      <td>HP Newest Pavilion 15.6\" HD Laptop, Intel Quad...</td>\n",
       "      <td>Sure would be nice if the whole thing worked. ...</td>\n",
       "      <td>1</td>\n",
       "    </tr>\n",
       "  </tbody>\n",
       "</table>\n",
       "</div>"
      ],
      "text/plain": [
       "   Id  vader_neg  vader_neu  vader_pos  vader_compound  roberta_neg  \\\n",
       "9   9      0.134      0.637      0.229          0.6883     0.878626   \n",
       "\n",
       "   roberta_neu  roberta_pos  \\\n",
       "9     0.101214      0.02016   \n",
       "\n",
       "                                        Product Name  \\\n",
       "9  HP Newest Pavilion 15.6\" HD Laptop, Intel Quad...   \n",
       "\n",
       "                                              Review  Rating  \n",
       "9  Sure would be nice if the whole thing worked. ...       1  "
      ]
     },
     "execution_count": 119,
     "metadata": {},
     "output_type": "execute_result"
    }
   ],
   "source": [
    "results_df.query('Rating == 1').sort_values('roberta_pos', ascending=False)"
   ]
  },
  {
   "cell_type": "code",
   "execution_count": null,
   "id": "7094af8f-ae3f-4906-9fe0-233a80bff545",
   "metadata": {},
   "outputs": [],
   "source": [
    "#Positive 1 Star Reviews"
   ]
  },
  {
   "cell_type": "code",
   "execution_count": 121,
   "id": "d698a87e-0a0a-427d-ab65-66d45f238d22",
   "metadata": {},
   "outputs": [
    {
     "data": {
      "text/plain": [
       "'Sure would be nice if the whole thing worked. Had it a couple weeks only to find out neither USB ports work. Spent 5 hours with tech support and 3 different techs and no luck. Trying to return through Amazon and having trouble with that too!!!!!!! Very unhappy customer!'"
      ]
     },
     "execution_count": 121,
     "metadata": {},
     "output_type": "execute_result"
    }
   ],
   "source": [
    "results_df.query('Rating == 1').sort_values('roberta_pos', ascending=False)['Review'].values[0]"
   ]
  },
  {
   "cell_type": "code",
   "execution_count": 122,
   "id": "e7377e54-8e0d-4d30-bd1f-2c36155fa62f",
   "metadata": {},
   "outputs": [
    {
     "data": {
      "text/plain": [
       "'Sure would be nice if the whole thing worked. Had it a couple weeks only to find out neither USB ports work. Spent 5 hours with tech support and 3 different techs and no luck. Trying to return through Amazon and having trouble with that too!!!!!!! Very unhappy customer!'"
      ]
     },
     "execution_count": 122,
     "metadata": {},
     "output_type": "execute_result"
    }
   ],
   "source": [
    "results_df.query('Rating == 1').sort_values('vader_pos', ascending=False)['Review'].values[0]"
   ]
  },
  {
   "cell_type": "code",
   "execution_count": null,
   "id": "fcd3a31f-85d9-4095-8220-5a694a162606",
   "metadata": {},
   "outputs": [],
   "source": [
    "# Negative Sentiment 5- star Reviews"
   ]
  },
  {
   "cell_type": "code",
   "execution_count": 123,
   "id": "f01857f4-e08d-41dd-a7c1-ffb995e3759f",
   "metadata": {},
   "outputs": [
    {
     "data": {
      "text/plain": [
       "'Its an ok laptop but dont expect to do any gaming at all, mainly just for school work on top of that its still a tad slow for my taste. With a fresh OS theres no reason why i should have keyboard lag and applications taking a bit to load, id rather save 100-200 more and get yourself something with better CPU, most laptops you will find with a price range of 100-200 more will probably not give you 16gb of ram or 1tb ssd, but the sacrifice will be worth the better cpu, plus you can always add more ram to the laptop later.'"
      ]
     },
     "execution_count": 123,
     "metadata": {},
     "output_type": "execute_result"
    }
   ],
   "source": [
    "results_df.query('Rating == 5').sort_values('roberta_neg', ascending=False)['Review'].values[0]"
   ]
  },
  {
   "cell_type": "code",
   "execution_count": 125,
   "id": "a6d794e5-0363-49bd-b1b2-b2202d248176",
   "metadata": {},
   "outputs": [
    {
     "data": {
      "text/plain": [
       "\"I really have no complaints about this laptop.. it's fast, light weight, and has plenty of memory.. the battery life doesn't really matter to me because I keep my laptop at home.. overall though it worth it, and affordable being under $600\""
      ]
     },
     "execution_count": 125,
     "metadata": {},
     "output_type": "execute_result"
    }
   ],
   "source": [
    "results_df.query('Rating == 5').sort_values('vader_neg', ascending=False)['Review'].values[0]"
   ]
  },
  {
   "cell_type": "code",
   "execution_count": 126,
   "id": "93ec2915-bacc-4fa6-a460-6630b4a7c909",
   "metadata": {},
   "outputs": [],
   "source": [
    "# The Transformer Pipeline\n",
    "from transformers import pipeline\n"
   ]
  },
  {
   "cell_type": "code",
   "execution_count": 128,
   "id": "6daa401a-caef-4664-88f8-ba4500304b57",
   "metadata": {},
   "outputs": [
    {
     "name": "stderr",
     "output_type": "stream",
     "text": [
      "No model was supplied, defaulted to distilbert-base-uncased-finetuned-sst-2-english and revision af0f99b (https://huggingface.co/distilbert-base-uncased-finetuned-sst-2-english).\n",
      "Using a pipeline without specifying a model name and revision in production is not recommended.\n"
     ]
    },
    {
     "data": {
      "application/vnd.jupyter.widget-view+json": {
       "model_id": "53efaa2980d34a4e87b11007f7a49879",
       "version_major": 2,
       "version_minor": 0
      },
      "text/plain": [
       "Downloading:   0%|          | 0.00/629 [00:00<?, ?B/s]"
      ]
     },
     "metadata": {},
     "output_type": "display_data"
    },
    {
     "data": {
      "application/vnd.jupyter.widget-view+json": {
       "model_id": "d7d7bb8c99e04d7784c9a7a12d96df60",
       "version_major": 2,
       "version_minor": 0
      },
      "text/plain": [
       "Downloading:   0%|          | 0.00/268M [00:00<?, ?B/s]"
      ]
     },
     "metadata": {},
     "output_type": "display_data"
    },
    {
     "data": {
      "application/vnd.jupyter.widget-view+json": {
       "model_id": "d6821b873a0541c38cf66aeb81282e17",
       "version_major": 2,
       "version_minor": 0
      },
      "text/plain": [
       "Downloading:   0%|          | 0.00/48.0 [00:00<?, ?B/s]"
      ]
     },
     "metadata": {},
     "output_type": "display_data"
    },
    {
     "data": {
      "application/vnd.jupyter.widget-view+json": {
       "model_id": "ba5f11d71572495894a2bfc4185ba707",
       "version_major": 2,
       "version_minor": 0
      },
      "text/plain": [
       "Downloading:   0%|          | 0.00/232k [00:00<?, ?B/s]"
      ]
     },
     "metadata": {},
     "output_type": "display_data"
    }
   ],
   "source": [
    "sentiment_pipeline = pipeline('sentiment-analysis')\n"
   ]
  },
  {
   "cell_type": "code",
   "execution_count": 130,
   "id": "20a8cdf4-b6ff-4bf4-bdd1-dd13abb091cd",
   "metadata": {},
   "outputs": [
    {
     "data": {
      "text/plain": [
       "[{'label': 'POSITIVE', 'score': 0.9997853636741638}]"
      ]
     },
     "execution_count": 130,
     "metadata": {},
     "output_type": "execute_result"
    }
   ],
   "source": [
    "sentiment_pipeline('I love sentiment analysis!')"
   ]
  },
  {
   "cell_type": "code",
   "execution_count": 131,
   "id": "a8f8c092-09bf-4f74-859e-0738474219d7",
   "metadata": {},
   "outputs": [
    {
     "data": {
      "text/plain": [
       "[{'label': 'POSITIVE', 'score': 0.9928141236305237}]"
      ]
     },
     "execution_count": 131,
     "metadata": {},
     "output_type": "execute_result"
    }
   ],
   "source": [
    "sentiment_pipeline('Like and comment')"
   ]
  },
  {
   "cell_type": "code",
   "execution_count": 133,
   "id": "93f1f6e2-793e-4d6e-a232-ec33ef8ca22d",
   "metadata": {},
   "outputs": [
    {
     "data": {
      "text/plain": [
       "[{'label': 'NEGATIVE', 'score': 0.9997968077659607}]"
      ]
     },
     "execution_count": 133,
     "metadata": {},
     "output_type": "execute_result"
    }
   ],
   "source": [
    "sentiment_pipeline('He is bad')"
   ]
  },
  {
   "cell_type": "code",
   "execution_count": null,
   "id": "34ad12bc-a91f-4cea-8572-8c3b7efa5754",
   "metadata": {},
   "outputs": [],
   "source": []
  }
 ],
 "metadata": {
  "kernelspec": {
   "display_name": "Python 3 (ipykernel)",
   "language": "python",
   "name": "python3"
  },
  "language_info": {
   "codemirror_mode": {
    "name": "ipython",
    "version": 3
   },
   "file_extension": ".py",
   "mimetype": "text/x-python",
   "name": "python",
   "nbconvert_exporter": "python",
   "pygments_lexer": "ipython3",
   "version": "3.10.9"
  }
 },
 "nbformat": 4,
 "nbformat_minor": 5
}
